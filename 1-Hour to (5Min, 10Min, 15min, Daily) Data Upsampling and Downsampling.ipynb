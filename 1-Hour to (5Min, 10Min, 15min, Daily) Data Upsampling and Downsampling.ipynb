{
 "cells": [
  {
   "cell_type": "code",
   "execution_count": 5,
   "id": "b541900e",
   "metadata": {},
   "outputs": [],
   "source": [
    "import pandas as pd\n",
    "import numpy as np\n",
    "import matplotlib.pyplot as plt"
   ]
  },
  {
   "cell_type": "code",
   "execution_count": 6,
   "id": "c8401031",
   "metadata": {},
   "outputs": [
    {
     "data": {
      "text/html": [
       "<div>\n",
       "<style scoped>\n",
       "    .dataframe tbody tr th:only-of-type {\n",
       "        vertical-align: middle;\n",
       "    }\n",
       "\n",
       "    .dataframe tbody tr th {\n",
       "        vertical-align: top;\n",
       "    }\n",
       "\n",
       "    .dataframe thead th {\n",
       "        text-align: right;\n",
       "    }\n",
       "</style>\n",
       "<table border=\"1\" class=\"dataframe\">\n",
       "  <thead>\n",
       "    <tr style=\"text-align: right;\">\n",
       "      <th></th>\n",
       "      <th>Meter ID</th>\n",
       "      <th>Channel</th>\n",
       "      <th>Date</th>\n",
       "      <th>Hour</th>\n",
       "      <th>Minute</th>\n",
       "      <th>Is DST</th>\n",
       "      <th>Volume</th>\n",
       "    </tr>\n",
       "  </thead>\n",
       "  <tbody>\n",
       "    <tr>\n",
       "      <th>0</th>\n",
       "      <td>Demand_1.2</td>\n",
       "      <td>1</td>\n",
       "      <td>1/1/2018 0:00</td>\n",
       "      <td>0</td>\n",
       "      <td>0</td>\n",
       "      <td>0</td>\n",
       "      <td>8313.0</td>\n",
       "    </tr>\n",
       "    <tr>\n",
       "      <th>1</th>\n",
       "      <td>Demand_1.2</td>\n",
       "      <td>1</td>\n",
       "      <td>1/1/2018 0:00</td>\n",
       "      <td>1</td>\n",
       "      <td>0</td>\n",
       "      <td>0</td>\n",
       "      <td>7854.0</td>\n",
       "    </tr>\n",
       "    <tr>\n",
       "      <th>2</th>\n",
       "      <td>Demand_1.2</td>\n",
       "      <td>1</td>\n",
       "      <td>1/1/2018 0:00</td>\n",
       "      <td>2</td>\n",
       "      <td>0</td>\n",
       "      <td>0</td>\n",
       "      <td>7563.0</td>\n",
       "    </tr>\n",
       "    <tr>\n",
       "      <th>3</th>\n",
       "      <td>Demand_1.2</td>\n",
       "      <td>1</td>\n",
       "      <td>1/1/2018 0:00</td>\n",
       "      <td>3</td>\n",
       "      <td>0</td>\n",
       "      <td>0</td>\n",
       "      <td>7457.0</td>\n",
       "    </tr>\n",
       "    <tr>\n",
       "      <th>4</th>\n",
       "      <td>Demand_1.2</td>\n",
       "      <td>1</td>\n",
       "      <td>1/1/2018 0:00</td>\n",
       "      <td>4</td>\n",
       "      <td>0</td>\n",
       "      <td>0</td>\n",
       "      <td>7501.0</td>\n",
       "    </tr>\n",
       "  </tbody>\n",
       "</table>\n",
       "</div>"
      ],
      "text/plain": [
       "     Meter ID  Channel           Date  Hour  Minute  Is DST  Volume\n",
       "0  Demand_1.2        1  1/1/2018 0:00     0       0       0  8313.0\n",
       "1  Demand_1.2        1  1/1/2018 0:00     1       0       0  7854.0\n",
       "2  Demand_1.2        1  1/1/2018 0:00     2       0       0  7563.0\n",
       "3  Demand_1.2        1  1/1/2018 0:00     3       0       0  7457.0\n",
       "4  Demand_1.2        1  1/1/2018 0:00     4       0       0  7501.0"
      ]
     },
     "execution_count": 6,
     "metadata": {},
     "output_type": "execute_result"
    }
   ],
   "source": [
    "#Connecting to data\n",
    "meter = pd.read_csv('Demand_1.2_meter.csv')\n",
    "weather = pd.read_csv('demand_1.2_weather.csv')\n",
    "meter.head()"
   ]
  },
  {
   "cell_type": "markdown",
   "id": "ee5456f6",
   "metadata": {},
   "source": [
    "<H1>Data Preparation</H1>"
   ]
  },
  {
   "cell_type": "code",
   "execution_count": 7,
   "id": "ee3a1cfb",
   "metadata": {},
   "outputs": [
    {
     "data": {
      "text/html": [
       "<div>\n",
       "<style scoped>\n",
       "    .dataframe tbody tr th:only-of-type {\n",
       "        vertical-align: middle;\n",
       "    }\n",
       "\n",
       "    .dataframe tbody tr th {\n",
       "        vertical-align: top;\n",
       "    }\n",
       "\n",
       "    .dataframe thead th {\n",
       "        text-align: right;\n",
       "    }\n",
       "</style>\n",
       "<table border=\"1\" class=\"dataframe\">\n",
       "  <thead>\n",
       "    <tr style=\"text-align: right;\">\n",
       "      <th></th>\n",
       "      <th>temperature</th>\n",
       "      <th>dewpoint</th>\n",
       "      <th>cloud_cover</th>\n",
       "      <th>humidity</th>\n",
       "      <th>wind_speed</th>\n",
       "      <th>wind_direction</th>\n",
       "      <th>precipitation</th>\n",
       "    </tr>\n",
       "    <tr>\n",
       "      <th>date_time</th>\n",
       "      <th></th>\n",
       "      <th></th>\n",
       "      <th></th>\n",
       "      <th></th>\n",
       "      <th></th>\n",
       "      <th></th>\n",
       "      <th></th>\n",
       "    </tr>\n",
       "  </thead>\n",
       "  <tbody>\n",
       "    <tr>\n",
       "      <th>2018-01-01 00:00:00</th>\n",
       "      <td>-2.0</td>\n",
       "      <td>-12.0</td>\n",
       "      <td>0</td>\n",
       "      <td>62</td>\n",
       "      <td>11.5</td>\n",
       "      <td>290</td>\n",
       "      <td>0.0</td>\n",
       "    </tr>\n",
       "    <tr>\n",
       "      <th>2018-01-01 01:00:00</th>\n",
       "      <td>-2.0</td>\n",
       "      <td>-13.0</td>\n",
       "      <td>0</td>\n",
       "      <td>59</td>\n",
       "      <td>16.1</td>\n",
       "      <td>310</td>\n",
       "      <td>0.0</td>\n",
       "    </tr>\n",
       "    <tr>\n",
       "      <th>2018-01-01 02:00:00</th>\n",
       "      <td>-3.0</td>\n",
       "      <td>-14.0</td>\n",
       "      <td>0</td>\n",
       "      <td>59</td>\n",
       "      <td>10.4</td>\n",
       "      <td>310</td>\n",
       "      <td>0.0</td>\n",
       "    </tr>\n",
       "    <tr>\n",
       "      <th>2018-01-01 03:00:00</th>\n",
       "      <td>-4.0</td>\n",
       "      <td>-14.0</td>\n",
       "      <td>0</td>\n",
       "      <td>62</td>\n",
       "      <td>11.5</td>\n",
       "      <td>300</td>\n",
       "      <td>0.0</td>\n",
       "    </tr>\n",
       "    <tr>\n",
       "      <th>2018-01-01 04:00:00</th>\n",
       "      <td>-4.0</td>\n",
       "      <td>-15.0</td>\n",
       "      <td>0</td>\n",
       "      <td>59</td>\n",
       "      <td>13.8</td>\n",
       "      <td>310</td>\n",
       "      <td>0.0</td>\n",
       "    </tr>\n",
       "  </tbody>\n",
       "</table>\n",
       "</div>"
      ],
      "text/plain": [
       "                     temperature  dewpoint  cloud_cover  humidity  wind_speed  \\\n",
       "date_time                                                                       \n",
       "2018-01-01 00:00:00         -2.0     -12.0            0        62        11.5   \n",
       "2018-01-01 01:00:00         -2.0     -13.0            0        59        16.1   \n",
       "2018-01-01 02:00:00         -3.0     -14.0            0        59        10.4   \n",
       "2018-01-01 03:00:00         -4.0     -14.0            0        62        11.5   \n",
       "2018-01-01 04:00:00         -4.0     -15.0            0        59        13.8   \n",
       "\n",
       "                     wind_direction  precipitation  \n",
       "date_time                                           \n",
       "2018-01-01 00:00:00             290            0.0  \n",
       "2018-01-01 01:00:00             310            0.0  \n",
       "2018-01-01 02:00:00             310            0.0  \n",
       "2018-01-01 03:00:00             300            0.0  \n",
       "2018-01-01 04:00:00             310            0.0  "
      ]
     },
     "execution_count": 7,
     "metadata": {},
     "output_type": "execute_result"
    }
   ],
   "source": [
    "#Weather data preparation\n",
    "data_weather = weather.set_index(pd.DatetimeIndex(weather['date_time']))\n",
    "data_weather = data_weather[['temperature', 'dewpoint', 'cloud_cover', 'humidity', 'wind_speed', 'wind_direction', 'precipitation']]\n",
    "data_weather.head()"
   ]
  },
  {
   "cell_type": "code",
   "execution_count": 8,
   "id": "d88dbb4e",
   "metadata": {},
   "outputs": [
    {
     "name": "stderr",
     "output_type": "stream",
     "text": [
      "C:\\Users\\BIKRAM~1\\AppData\\Local\\Temp/ipykernel_13164/1750588931.py:3: SettingWithCopyWarning: \n",
      "A value is trying to be set on a copy of a slice from a DataFrame.\n",
      "Try using .loc[row_indexer,col_indexer] = value instead\n",
      "\n",
      "See the caveats in the documentation: https://pandas.pydata.org/pandas-docs/stable/user_guide/indexing.html#returning-a-view-versus-a-copy\n",
      "  data_meter['Date'] = pd.to_datetime(data_meter['Date'])\n",
      "C:\\Users\\BIKRAM~1\\AppData\\Local\\Temp/ipykernel_13164/1750588931.py:4: SettingWithCopyWarning: \n",
      "A value is trying to be set on a copy of a slice from a DataFrame.\n",
      "Try using .loc[row_indexer,col_indexer] = value instead\n",
      "\n",
      "See the caveats in the documentation: https://pandas.pydata.org/pandas-docs/stable/user_guide/indexing.html#returning-a-view-versus-a-copy\n",
      "  data_meter['Hour'] = pd.to_datetime(data_meter['Hour'], format='%H')\n",
      "C:\\Users\\BIKRAM~1\\AppData\\Local\\Temp/ipykernel_13164/1750588931.py:5: SettingWithCopyWarning: \n",
      "A value is trying to be set on a copy of a slice from a DataFrame.\n",
      "Try using .loc[row_indexer,col_indexer] = value instead\n",
      "\n",
      "See the caveats in the documentation: https://pandas.pydata.org/pandas-docs/stable/user_guide/indexing.html#returning-a-view-versus-a-copy\n",
      "  data_meter['Hour'] = data_meter['Hour'].dt.time\n",
      "C:\\Users\\BIKRAM~1\\AppData\\Local\\Temp/ipykernel_13164/1750588931.py:6: SettingWithCopyWarning: \n",
      "A value is trying to be set on a copy of a slice from a DataFrame.\n",
      "Try using .loc[row_indexer,col_indexer] = value instead\n",
      "\n",
      "See the caveats in the documentation: https://pandas.pydata.org/pandas-docs/stable/user_guide/indexing.html#returning-a-view-versus-a-copy\n",
      "  data_meter['date_time'] = pd.to_datetime(data_meter.Date.astype(str) + ' ' + data_meter.Hour.astype(str))\n"
     ]
    },
    {
     "data": {
      "text/plain": [
       "date_time\n",
       "2018-01-01 00:00:00    8313.0\n",
       "2018-01-01 01:00:00    7854.0\n",
       "2018-01-01 02:00:00    7563.0\n",
       "2018-01-01 03:00:00    7457.0\n",
       "2018-01-01 04:00:00    7501.0\n",
       "Name: Volume, dtype: float64"
      ]
     },
     "execution_count": 8,
     "metadata": {},
     "output_type": "execute_result"
    }
   ],
   "source": [
    "#meter data preparation\n",
    "data_meter = meter[['Date', 'Hour','Volume']]\n",
    "data_meter['Date'] = pd.to_datetime(data_meter['Date'])\n",
    "data_meter['Hour'] = pd.to_datetime(data_meter['Hour'], format='%H')\n",
    "data_meter['Hour'] = data_meter['Hour'].dt.time\n",
    "data_meter['date_time'] = pd.to_datetime(data_meter.Date.astype(str) + ' ' + data_meter.Hour.astype(str))\n",
    "data_2 = data_meter[['date_time' ,'Volume']]\n",
    "data_2 = data_2.set_index(pd.DatetimeIndex(data_2['date_time']), drop=True)\n",
    "data_2 = data_2['Volume']\n",
    "data_2.head()"
   ]
  },
  {
   "cell_type": "markdown",
   "id": "e7c16267",
   "metadata": {},
   "source": [
    "<H1>Data Upsampling</H1>"
   ]
  },
  {
   "cell_type": "markdown",
   "id": "c25d87f9",
   "metadata": {},
   "source": [
    "<H2>Weather Data Upsampling</H2>"
   ]
  },
  {
   "cell_type": "markdown",
   "id": "aa1d6b8b",
   "metadata": {},
   "source": [
    "<H3>To convert to minutes than convert to sencond. eg. 5min = 300s</H3>"
   ]
  },
  {
   "cell_type": "code",
   "execution_count": 9,
   "id": "cceb7348",
   "metadata": {},
   "outputs": [
    {
     "data": {
      "text/plain": [
       "<function matplotlib.pyplot.show(close=None, block=None)>"
      ]
     },
     "execution_count": 9,
     "metadata": {},
     "output_type": "execute_result"
    },
    {
     "data": {
      "image/png": "[encoded data removed]",
      "text/plain": [
       "<Figure size 432x288 with 1 Axes>"
      ]
     },
     "metadata": {
      "needs_background": "light"
     },
     "output_type": "display_data"
    }
   ],
   "source": [
    "data_weather_2 = data_weather\n",
    "plt.scatter(data_weather_2.index[0:500], data_weather_2['temperature'][0:500])\n",
    "plt.show"
   ]
  },
  {
   "cell_type": "code",
   "execution_count": 10,
   "id": "5f385a91",
   "metadata": {},
   "outputs": [
    {
     "data": {
      "text/html": [
       "<div>\n",
       "<style scoped>\n",
       "    .dataframe tbody tr th:only-of-type {\n",
       "        vertical-align: middle;\n",
       "    }\n",
       "\n",
       "    .dataframe tbody tr th {\n",
       "        vertical-align: top;\n",
       "    }\n",
       "\n",
       "    .dataframe thead th {\n",
       "        text-align: right;\n",
       "    }\n",
       "</style>\n",
       "<table border=\"1\" class=\"dataframe\">\n",
       "  <thead>\n",
       "    <tr style=\"text-align: right;\">\n",
       "      <th></th>\n",
       "      <th>temperature</th>\n",
       "      <th>dewpoint</th>\n",
       "      <th>cloud_cover</th>\n",
       "      <th>humidity</th>\n",
       "      <th>wind_speed</th>\n",
       "      <th>wind_direction</th>\n",
       "      <th>precipitation</th>\n",
       "    </tr>\n",
       "    <tr>\n",
       "      <th>date_time</th>\n",
       "      <th></th>\n",
       "      <th></th>\n",
       "      <th></th>\n",
       "      <th></th>\n",
       "      <th></th>\n",
       "      <th></th>\n",
       "      <th></th>\n",
       "    </tr>\n",
       "  </thead>\n",
       "  <tbody>\n",
       "    <tr>\n",
       "      <th>2018-01-01 00:00:00</th>\n",
       "      <td>-2.0</td>\n",
       "      <td>-12.000000</td>\n",
       "      <td>0.0</td>\n",
       "      <td>62.00</td>\n",
       "      <td>11.500000</td>\n",
       "      <td>290.000000</td>\n",
       "      <td>0.0</td>\n",
       "    </tr>\n",
       "    <tr>\n",
       "      <th>2018-01-01 00:05:00</th>\n",
       "      <td>-2.0</td>\n",
       "      <td>-12.083333</td>\n",
       "      <td>0.0</td>\n",
       "      <td>61.75</td>\n",
       "      <td>11.883333</td>\n",
       "      <td>291.666667</td>\n",
       "      <td>0.0</td>\n",
       "    </tr>\n",
       "    <tr>\n",
       "      <th>2018-01-01 00:10:00</th>\n",
       "      <td>-2.0</td>\n",
       "      <td>-12.166667</td>\n",
       "      <td>0.0</td>\n",
       "      <td>61.50</td>\n",
       "      <td>12.266667</td>\n",
       "      <td>293.333333</td>\n",
       "      <td>0.0</td>\n",
       "    </tr>\n",
       "    <tr>\n",
       "      <th>2018-01-01 00:15:00</th>\n",
       "      <td>-2.0</td>\n",
       "      <td>-12.250000</td>\n",
       "      <td>0.0</td>\n",
       "      <td>61.25</td>\n",
       "      <td>12.650000</td>\n",
       "      <td>295.000000</td>\n",
       "      <td>0.0</td>\n",
       "    </tr>\n",
       "    <tr>\n",
       "      <th>2018-01-01 00:20:00</th>\n",
       "      <td>-2.0</td>\n",
       "      <td>-12.333333</td>\n",
       "      <td>0.0</td>\n",
       "      <td>61.00</td>\n",
       "      <td>13.033333</td>\n",
       "      <td>296.666667</td>\n",
       "      <td>0.0</td>\n",
       "    </tr>\n",
       "  </tbody>\n",
       "</table>\n",
       "</div>"
      ],
      "text/plain": [
       "                     temperature   dewpoint  cloud_cover  humidity  \\\n",
       "date_time                                                            \n",
       "2018-01-01 00:00:00         -2.0 -12.000000          0.0     62.00   \n",
       "2018-01-01 00:05:00         -2.0 -12.083333          0.0     61.75   \n",
       "2018-01-01 00:10:00         -2.0 -12.166667          0.0     61.50   \n",
       "2018-01-01 00:15:00         -2.0 -12.250000          0.0     61.25   \n",
       "2018-01-01 00:20:00         -2.0 -12.333333          0.0     61.00   \n",
       "\n",
       "                     wind_speed  wind_direction  precipitation  \n",
       "date_time                                                       \n",
       "2018-01-01 00:00:00   11.500000      290.000000            0.0  \n",
       "2018-01-01 00:05:00   11.883333      291.666667            0.0  \n",
       "2018-01-01 00:10:00   12.266667      293.333333            0.0  \n",
       "2018-01-01 00:15:00   12.650000      295.000000            0.0  \n",
       "2018-01-01 00:20:00   13.033333      296.666667            0.0  "
      ]
     },
     "execution_count": 10,
     "metadata": {},
     "output_type": "execute_result"
    }
   ],
   "source": [
    "data_weather_2 = data_weather_2.resample('300S').asfreq()\n",
    "data_2_weather = data_weather_2.interpolate(method='linear')\n",
    "data_2_weather.head()"
   ]
  },
  {
   "cell_type": "code",
   "execution_count": 11,
   "id": "8139405f",
   "metadata": {},
   "outputs": [
    {
     "data": {
      "text/plain": [
       "<function matplotlib.pyplot.show(close=None, block=None)>"
      ]
     },
     "execution_count": 11,
     "metadata": {},
     "output_type": "execute_result"
    },
    {
     "data": {
      "image/png": "[encoded data removed]",
      "text/plain": [
       "<Figure size 432x288 with 1 Axes>"
      ]
     },
     "metadata": {
      "needs_background": "light"
     },
     "output_type": "display_data"
    }
   ],
   "source": [
    "plt.scatter(data_2_weather.index[0:1500], data_2_weather['temperature'][0:1500])\n",
    "plt.show"
   ]
  },
  {
   "cell_type": "code",
   "execution_count": 12,
   "id": "7e11245b",
   "metadata": {},
   "outputs": [
    {
     "data": {
      "text/html": [
       "<div>\n",
       "<style scoped>\n",
       "    .dataframe tbody tr th:only-of-type {\n",
       "        vertical-align: middle;\n",
       "    }\n",
       "\n",
       "    .dataframe tbody tr th {\n",
       "        vertical-align: top;\n",
       "    }\n",
       "\n",
       "    .dataframe thead th {\n",
       "        text-align: right;\n",
       "    }\n",
       "</style>\n",
       "<table border=\"1\" class=\"dataframe\">\n",
       "  <thead>\n",
       "    <tr style=\"text-align: right;\">\n",
       "      <th></th>\n",
       "      <th>temperature</th>\n",
       "      <th>dewpoint</th>\n",
       "      <th>cloud_cover</th>\n",
       "      <th>humidity</th>\n",
       "      <th>wind_speed</th>\n",
       "      <th>wind_direction</th>\n",
       "      <th>precipitation</th>\n",
       "    </tr>\n",
       "    <tr>\n",
       "      <th>date_time</th>\n",
       "      <th></th>\n",
       "      <th></th>\n",
       "      <th></th>\n",
       "      <th></th>\n",
       "      <th></th>\n",
       "      <th></th>\n",
       "      <th></th>\n",
       "    </tr>\n",
       "  </thead>\n",
       "  <tbody>\n",
       "    <tr>\n",
       "      <th>2022-02-28 22:40:00</th>\n",
       "      <td>15.966667</td>\n",
       "      <td>2.033333</td>\n",
       "      <td>11.0</td>\n",
       "      <td>54.333333</td>\n",
       "      <td>5.366667</td>\n",
       "      <td>268.0</td>\n",
       "      <td>0.0</td>\n",
       "    </tr>\n",
       "    <tr>\n",
       "      <th>2022-02-28 22:45:00</th>\n",
       "      <td>15.925000</td>\n",
       "      <td>2.050000</td>\n",
       "      <td>11.0</td>\n",
       "      <td>54.500000</td>\n",
       "      <td>5.400000</td>\n",
       "      <td>267.0</td>\n",
       "      <td>0.0</td>\n",
       "    </tr>\n",
       "    <tr>\n",
       "      <th>2022-02-28 22:50:00</th>\n",
       "      <td>15.883333</td>\n",
       "      <td>2.066667</td>\n",
       "      <td>11.0</td>\n",
       "      <td>54.666667</td>\n",
       "      <td>5.433333</td>\n",
       "      <td>266.0</td>\n",
       "      <td>0.0</td>\n",
       "    </tr>\n",
       "    <tr>\n",
       "      <th>2022-02-28 22:55:00</th>\n",
       "      <td>15.841667</td>\n",
       "      <td>2.083333</td>\n",
       "      <td>11.0</td>\n",
       "      <td>54.833333</td>\n",
       "      <td>5.466667</td>\n",
       "      <td>265.0</td>\n",
       "      <td>0.0</td>\n",
       "    </tr>\n",
       "    <tr>\n",
       "      <th>2022-02-28 23:00:00</th>\n",
       "      <td>15.800000</td>\n",
       "      <td>2.100000</td>\n",
       "      <td>11.0</td>\n",
       "      <td>55.000000</td>\n",
       "      <td>5.500000</td>\n",
       "      <td>264.0</td>\n",
       "      <td>0.0</td>\n",
       "    </tr>\n",
       "  </tbody>\n",
       "</table>\n",
       "</div>"
      ],
      "text/plain": [
       "                     temperature  dewpoint  cloud_cover   humidity  \\\n",
       "date_time                                                            \n",
       "2022-02-28 22:40:00    15.966667  2.033333         11.0  54.333333   \n",
       "2022-02-28 22:45:00    15.925000  2.050000         11.0  54.500000   \n",
       "2022-02-28 22:50:00    15.883333  2.066667         11.0  54.666667   \n",
       "2022-02-28 22:55:00    15.841667  2.083333         11.0  54.833333   \n",
       "2022-02-28 23:00:00    15.800000  2.100000         11.0  55.000000   \n",
       "\n",
       "                     wind_speed  wind_direction  precipitation  \n",
       "date_time                                                       \n",
       "2022-02-28 22:40:00    5.366667           268.0            0.0  \n",
       "2022-02-28 22:45:00    5.400000           267.0            0.0  \n",
       "2022-02-28 22:50:00    5.433333           266.0            0.0  \n",
       "2022-02-28 22:55:00    5.466667           265.0            0.0  \n",
       "2022-02-28 23:00:00    5.500000           264.0            0.0  "
      ]
     },
     "execution_count": 12,
     "metadata": {},
     "output_type": "execute_result"
    }
   ],
   "source": [
    "data_2_weather.tail()"
   ]
  },
  {
   "cell_type": "code",
   "execution_count": 13,
   "id": "371bb6a0",
   "metadata": {},
   "outputs": [],
   "source": [
    "#data_2_weather.to_csv('Demand 1 5 Min Weather.csv')"
   ]
  },
  {
   "cell_type": "code",
   "execution_count": 14,
   "id": "ef3b68d6",
   "metadata": {},
   "outputs": [
    {
     "data": {
      "text/plain": [
       "(437749, 7)"
      ]
     },
     "execution_count": 14,
     "metadata": {},
     "output_type": "execute_result"
    }
   ],
   "source": [
    "data_2_weather.shape"
   ]
  },
  {
   "cell_type": "code",
   "execution_count": null,
   "id": "2e4a490a",
   "metadata": {},
   "outputs": [],
   "source": []
  },
  {
   "cell_type": "markdown",
   "id": "e002a92c",
   "metadata": {},
   "source": [
    "<H2>Meter data Upsampling</H2>"
   ]
  },
  {
   "cell_type": "code",
   "execution_count": 40,
   "id": "43e6b84c",
   "metadata": {},
   "outputs": [
    {
     "name": "stdout",
     "output_type": "stream",
     "text": [
      "                     Volume\n",
      "date_time                  \n",
      "2018-01-01 00:00:00  8313.0\n",
      "2018-01-01 01:00:00  7854.0\n",
      "2018-01-01 02:00:00  7563.0\n",
      "2018-01-01 03:00:00  7457.0\n",
      "2018-01-01 04:00:00  7501.0\n"
     ]
    },
    {
     "data": {
      "text/plain": [
       "<function matplotlib.pyplot.show(close=None, block=None)>"
      ]
     },
     "execution_count": 40,
     "metadata": {},
     "output_type": "execute_result"
    },
    {
     "data": {
      "image/png": "[encoded data removed]",
      "text/plain": [
       "<Figure size 432x288 with 1 Axes>"
      ]
     },
     "metadata": {
      "needs_background": "light"
     },
     "output_type": "display_data"
    }
   ],
   "source": [
    "data_meter_2 = data_2.to_frame()\n",
    "print(data_meter_2.head())\n",
    "plt.scatter(data_meter_2.index[0:200], data_meter_2['Volume'][0:200])\n",
    "plt.show"
   ]
  },
  {
   "cell_type": "code",
   "execution_count": 36,
   "id": "a26a9da2",
   "metadata": {},
   "outputs": [
    {
     "data": {
      "text/html": [
       "<div>\n",
       "<style scoped>\n",
       "    .dataframe tbody tr th:only-of-type {\n",
       "        vertical-align: middle;\n",
       "    }\n",
       "\n",
       "    .dataframe tbody tr th {\n",
       "        vertical-align: top;\n",
       "    }\n",
       "\n",
       "    .dataframe thead th {\n",
       "        text-align: right;\n",
       "    }\n",
       "</style>\n",
       "<table border=\"1\" class=\"dataframe\">\n",
       "  <thead>\n",
       "    <tr style=\"text-align: right;\">\n",
       "      <th></th>\n",
       "      <th>Volume</th>\n",
       "    </tr>\n",
       "    <tr>\n",
       "      <th>date_time</th>\n",
       "      <th></th>\n",
       "    </tr>\n",
       "  </thead>\n",
       "  <tbody>\n",
       "    <tr>\n",
       "      <th>2018-01-01 00:00:00</th>\n",
       "      <td>8313.00</td>\n",
       "    </tr>\n",
       "    <tr>\n",
       "      <th>2018-01-01 00:05:00</th>\n",
       "      <td>8274.75</td>\n",
       "    </tr>\n",
       "    <tr>\n",
       "      <th>2018-01-01 00:10:00</th>\n",
       "      <td>8236.50</td>\n",
       "    </tr>\n",
       "    <tr>\n",
       "      <th>2018-01-01 00:15:00</th>\n",
       "      <td>8198.25</td>\n",
       "    </tr>\n",
       "    <tr>\n",
       "      <th>2018-01-01 00:20:00</th>\n",
       "      <td>8160.00</td>\n",
       "    </tr>\n",
       "    <tr>\n",
       "      <th>2018-01-01 00:25:00</th>\n",
       "      <td>8121.75</td>\n",
       "    </tr>\n",
       "    <tr>\n",
       "      <th>2018-01-01 00:30:00</th>\n",
       "      <td>8083.50</td>\n",
       "    </tr>\n",
       "    <tr>\n",
       "      <th>2018-01-01 00:35:00</th>\n",
       "      <td>8045.25</td>\n",
       "    </tr>\n",
       "    <tr>\n",
       "      <th>2018-01-01 00:40:00</th>\n",
       "      <td>8007.00</td>\n",
       "    </tr>\n",
       "    <tr>\n",
       "      <th>2018-01-01 00:45:00</th>\n",
       "      <td>7968.75</td>\n",
       "    </tr>\n",
       "  </tbody>\n",
       "</table>\n",
       "</div>"
      ],
      "text/plain": [
       "                      Volume\n",
       "date_time                   \n",
       "2018-01-01 00:00:00  8313.00\n",
       "2018-01-01 00:05:00  8274.75\n",
       "2018-01-01 00:10:00  8236.50\n",
       "2018-01-01 00:15:00  8198.25\n",
       "2018-01-01 00:20:00  8160.00\n",
       "2018-01-01 00:25:00  8121.75\n",
       "2018-01-01 00:30:00  8083.50\n",
       "2018-01-01 00:35:00  8045.25\n",
       "2018-01-01 00:40:00  8007.00\n",
       "2018-01-01 00:45:00  7968.75"
      ]
     },
     "execution_count": 36,
     "metadata": {},
     "output_type": "execute_result"
    }
   ],
   "source": [
    "data_3 = data_2.resample('300S').asfreq()\n",
    "data_3 = data_3.interpolate(method='linear')\n",
    "data_3 = data_3.to_frame()\n",
    "data_3.head(10)"
   ]
  },
  {
   "cell_type": "code",
   "execution_count": 37,
   "id": "924b75ca",
   "metadata": {},
   "outputs": [
    {
     "data": {
      "text/html": [
       "<div>\n",
       "<style scoped>\n",
       "    .dataframe tbody tr th:only-of-type {\n",
       "        vertical-align: middle;\n",
       "    }\n",
       "\n",
       "    .dataframe tbody tr th {\n",
       "        vertical-align: top;\n",
       "    }\n",
       "\n",
       "    .dataframe thead th {\n",
       "        text-align: right;\n",
       "    }\n",
       "</style>\n",
       "<table border=\"1\" class=\"dataframe\">\n",
       "  <thead>\n",
       "    <tr style=\"text-align: right;\">\n",
       "      <th></th>\n",
       "      <th>Volume</th>\n",
       "      <th>Date</th>\n",
       "      <th>Hour</th>\n",
       "      <th>Minute</th>\n",
       "    </tr>\n",
       "    <tr>\n",
       "      <th>Date</th>\n",
       "      <th></th>\n",
       "      <th></th>\n",
       "      <th></th>\n",
       "      <th></th>\n",
       "    </tr>\n",
       "  </thead>\n",
       "  <tbody>\n",
       "    <tr>\n",
       "      <th>2018-01-01</th>\n",
       "      <td>8313.00</td>\n",
       "      <td>2018-01-01</td>\n",
       "      <td>0</td>\n",
       "      <td>0</td>\n",
       "    </tr>\n",
       "    <tr>\n",
       "      <th>2018-01-01</th>\n",
       "      <td>8274.75</td>\n",
       "      <td>2018-01-01</td>\n",
       "      <td>0</td>\n",
       "      <td>5</td>\n",
       "    </tr>\n",
       "    <tr>\n",
       "      <th>2018-01-01</th>\n",
       "      <td>8236.50</td>\n",
       "      <td>2018-01-01</td>\n",
       "      <td>0</td>\n",
       "      <td>10</td>\n",
       "    </tr>\n",
       "    <tr>\n",
       "      <th>2018-01-01</th>\n",
       "      <td>8198.25</td>\n",
       "      <td>2018-01-01</td>\n",
       "      <td>0</td>\n",
       "      <td>15</td>\n",
       "    </tr>\n",
       "    <tr>\n",
       "      <th>2018-01-01</th>\n",
       "      <td>8160.00</td>\n",
       "      <td>2018-01-01</td>\n",
       "      <td>0</td>\n",
       "      <td>20</td>\n",
       "    </tr>\n",
       "    <tr>\n",
       "      <th>2018-01-01</th>\n",
       "      <td>8121.75</td>\n",
       "      <td>2018-01-01</td>\n",
       "      <td>0</td>\n",
       "      <td>25</td>\n",
       "    </tr>\n",
       "    <tr>\n",
       "      <th>2018-01-01</th>\n",
       "      <td>8083.50</td>\n",
       "      <td>2018-01-01</td>\n",
       "      <td>0</td>\n",
       "      <td>30</td>\n",
       "    </tr>\n",
       "    <tr>\n",
       "      <th>2018-01-01</th>\n",
       "      <td>8045.25</td>\n",
       "      <td>2018-01-01</td>\n",
       "      <td>0</td>\n",
       "      <td>35</td>\n",
       "    </tr>\n",
       "    <tr>\n",
       "      <th>2018-01-01</th>\n",
       "      <td>8007.00</td>\n",
       "      <td>2018-01-01</td>\n",
       "      <td>0</td>\n",
       "      <td>40</td>\n",
       "    </tr>\n",
       "    <tr>\n",
       "      <th>2018-01-01</th>\n",
       "      <td>7968.75</td>\n",
       "      <td>2018-01-01</td>\n",
       "      <td>0</td>\n",
       "      <td>45</td>\n",
       "    </tr>\n",
       "  </tbody>\n",
       "</table>\n",
       "</div>"
      ],
      "text/plain": [
       "             Volume        Date  Hour  Minute\n",
       "Date                                         \n",
       "2018-01-01  8313.00  2018-01-01     0       0\n",
       "2018-01-01  8274.75  2018-01-01     0       5\n",
       "2018-01-01  8236.50  2018-01-01     0      10\n",
       "2018-01-01  8198.25  2018-01-01     0      15\n",
       "2018-01-01  8160.00  2018-01-01     0      20\n",
       "2018-01-01  8121.75  2018-01-01     0      25\n",
       "2018-01-01  8083.50  2018-01-01     0      30\n",
       "2018-01-01  8045.25  2018-01-01     0      35\n",
       "2018-01-01  8007.00  2018-01-01     0      40\n",
       "2018-01-01  7968.75  2018-01-01     0      45"
      ]
     },
     "execution_count": 37,
     "metadata": {},
     "output_type": "execute_result"
    }
   ],
   "source": [
    "data_3['Date'] = data_3.index.date\n",
    "data_3['Hour'] = data_3.index.hour\n",
    "data_3['Minute'] = data_3.index.minute\n",
    "data_3 = data_3.set_index(pd.DatetimeIndex(data_3['Date']), drop = True)\n",
    "data_3.head(10)"
   ]
  },
  {
   "cell_type": "code",
   "execution_count": 38,
   "id": "069f48a8",
   "metadata": {},
   "outputs": [
    {
     "data": {
      "text/plain": [
       "<function matplotlib.pyplot.show(close=None, block=None)>"
      ]
     },
     "execution_count": 38,
     "metadata": {},
     "output_type": "execute_result"
    },
    {
     "data": {
      "image/png": "[encoded data removed]",
      "text/plain": [
       "<Figure size 432x288 with 1 Axes>"
      ]
     },
     "metadata": {
      "needs_background": "light"
     },
     "output_type": "display_data"
    }
   ],
   "source": [
    "plt.scatter(data_3.index[0:2000], data_3['Volume'][0:2000])\n",
    "plt.show"
   ]
  },
  {
   "cell_type": "code",
   "execution_count": null,
   "id": "ed43e575",
   "metadata": {},
   "outputs": [],
   "source": []
  },
  {
   "cell_type": "code",
   "execution_count": 16,
   "id": "e4144052",
   "metadata": {},
   "outputs": [],
   "source": [
    "#data_3.to_csv(\"Demand 1 5 Min Meter.csv\")"
   ]
  },
  {
   "cell_type": "code",
   "execution_count": null,
   "id": "d85440d3",
   "metadata": {},
   "outputs": [],
   "source": []
  },
  {
   "cell_type": "markdown",
   "id": "9aecbaf9",
   "metadata": {},
   "source": [
    "<H1>Weather Data Downsampling</H1>"
   ]
  },
  {
   "cell_type": "markdown",
   "id": "691d0289",
   "metadata": {},
   "source": [
    "<H2>To downsample data to day use 'D', month='M', Year='Y'</H2>"
   ]
  },
  {
   "cell_type": "markdown",
   "id": "ef80b7f7",
   "metadata": {},
   "source": [
    "<H3>Weather Data Downsampling</H3>"
   ]
  },
  {
   "cell_type": "code",
   "execution_count": 16,
   "id": "77456b69",
   "metadata": {},
   "outputs": [
    {
     "data": {
      "text/html": [
       "<div>\n",
       "<style scoped>\n",
       "    .dataframe tbody tr th:only-of-type {\n",
       "        vertical-align: middle;\n",
       "    }\n",
       "\n",
       "    .dataframe tbody tr th {\n",
       "        vertical-align: top;\n",
       "    }\n",
       "\n",
       "    .dataframe thead th {\n",
       "        text-align: right;\n",
       "    }\n",
       "</style>\n",
       "<table border=\"1\" class=\"dataframe\">\n",
       "  <thead>\n",
       "    <tr style=\"text-align: right;\">\n",
       "      <th></th>\n",
       "      <th>temperature</th>\n",
       "      <th>dewpoint</th>\n",
       "      <th>cloud_cover</th>\n",
       "      <th>humidity</th>\n",
       "      <th>wind_speed</th>\n",
       "      <th>wind_direction</th>\n",
       "      <th>precipitation</th>\n",
       "    </tr>\n",
       "    <tr>\n",
       "      <th>date_time</th>\n",
       "      <th></th>\n",
       "      <th></th>\n",
       "      <th></th>\n",
       "      <th></th>\n",
       "      <th></th>\n",
       "      <th></th>\n",
       "      <th></th>\n",
       "    </tr>\n",
       "  </thead>\n",
       "  <tbody>\n",
       "    <tr>\n",
       "      <th>2018-01-01</th>\n",
       "      <td>0.108333</td>\n",
       "      <td>-13.825000</td>\n",
       "      <td>2.291667</td>\n",
       "      <td>52.208333</td>\n",
       "      <td>15.245833</td>\n",
       "      <td>291.125000</td>\n",
       "      <td>0.000000</td>\n",
       "    </tr>\n",
       "    <tr>\n",
       "      <th>2018-01-02</th>\n",
       "      <td>6.779167</td>\n",
       "      <td>-5.450000</td>\n",
       "      <td>10.833333</td>\n",
       "      <td>57.500000</td>\n",
       "      <td>12.462500</td>\n",
       "      <td>259.625000</td>\n",
       "      <td>0.000000</td>\n",
       "    </tr>\n",
       "    <tr>\n",
       "      <th>2018-01-03</th>\n",
       "      <td>14.654167</td>\n",
       "      <td>0.554167</td>\n",
       "      <td>48.666667</td>\n",
       "      <td>55.000000</td>\n",
       "      <td>8.712500</td>\n",
       "      <td>227.625000</td>\n",
       "      <td>0.000000</td>\n",
       "    </tr>\n",
       "    <tr>\n",
       "      <th>2018-01-04</th>\n",
       "      <td>16.783333</td>\n",
       "      <td>9.300000</td>\n",
       "      <td>99.666667</td>\n",
       "      <td>76.625000</td>\n",
       "      <td>21.970833</td>\n",
       "      <td>188.708333</td>\n",
       "      <td>0.021667</td>\n",
       "    </tr>\n",
       "    <tr>\n",
       "      <th>2018-01-05</th>\n",
       "      <td>5.795833</td>\n",
       "      <td>-6.237500</td>\n",
       "      <td>47.708333</td>\n",
       "      <td>57.791667</td>\n",
       "      <td>20.854167</td>\n",
       "      <td>274.625000</td>\n",
       "      <td>0.000417</td>\n",
       "    </tr>\n",
       "  </tbody>\n",
       "</table>\n",
       "</div>"
      ],
      "text/plain": [
       "            temperature   dewpoint  cloud_cover   humidity  wind_speed  \\\n",
       "date_time                                                                \n",
       "2018-01-01     0.108333 -13.825000     2.291667  52.208333   15.245833   \n",
       "2018-01-02     6.779167  -5.450000    10.833333  57.500000   12.462500   \n",
       "2018-01-03    14.654167   0.554167    48.666667  55.000000    8.712500   \n",
       "2018-01-04    16.783333   9.300000    99.666667  76.625000   21.970833   \n",
       "2018-01-05     5.795833  -6.237500    47.708333  57.791667   20.854167   \n",
       "\n",
       "            wind_direction  precipitation  \n",
       "date_time                                  \n",
       "2018-01-01      291.125000       0.000000  \n",
       "2018-01-02      259.625000       0.000000  \n",
       "2018-01-03      227.625000       0.000000  \n",
       "2018-01-04      188.708333       0.021667  \n",
       "2018-01-05      274.625000       0.000417  "
      ]
     },
     "execution_count": 16,
     "metadata": {},
     "output_type": "execute_result"
    }
   ],
   "source": [
    "data_weather_3 = data_weather.resample('D').mean()\n",
    "data_weather_3.head()"
   ]
  },
  {
   "cell_type": "code",
   "execution_count": 6,
   "id": "d6d762a0",
   "metadata": {},
   "outputs": [],
   "source": [
    "data_weather_3.to_csv(\"Demand 1 Daily Weather.csv\")"
   ]
  },
  {
   "cell_type": "markdown",
   "id": "0030dabb",
   "metadata": {},
   "source": [
    "<H3>Meter Data Downsampling</H3>"
   ]
  },
  {
   "cell_type": "code",
   "execution_count": 66,
   "id": "fbfec08c",
   "metadata": {},
   "outputs": [
    {
     "data": {
      "text/html": [
       "<div>\n",
       "<style scoped>\n",
       "    .dataframe tbody tr th:only-of-type {\n",
       "        vertical-align: middle;\n",
       "    }\n",
       "\n",
       "    .dataframe tbody tr th {\n",
       "        vertical-align: top;\n",
       "    }\n",
       "\n",
       "    .dataframe thead th {\n",
       "        text-align: right;\n",
       "    }\n",
       "</style>\n",
       "<table border=\"1\" class=\"dataframe\">\n",
       "  <thead>\n",
       "    <tr style=\"text-align: right;\">\n",
       "      <th></th>\n",
       "      <th>Volume</th>\n",
       "    </tr>\n",
       "    <tr>\n",
       "      <th>date_time</th>\n",
       "      <th></th>\n",
       "    </tr>\n",
       "  </thead>\n",
       "  <tbody>\n",
       "    <tr>\n",
       "      <th>2018-01-01</th>\n",
       "      <td>203384.0</td>\n",
       "    </tr>\n",
       "    <tr>\n",
       "      <th>2018-01-02</th>\n",
       "      <td>214048.0</td>\n",
       "    </tr>\n",
       "    <tr>\n",
       "      <th>2018-01-03</th>\n",
       "      <td>207680.0</td>\n",
       "    </tr>\n",
       "    <tr>\n",
       "      <th>2018-01-04</th>\n",
       "      <td>206323.0</td>\n",
       "    </tr>\n",
       "    <tr>\n",
       "      <th>2018-01-05</th>\n",
       "      <td>203598.0</td>\n",
       "    </tr>\n",
       "  </tbody>\n",
       "</table>\n",
       "</div>"
      ],
      "text/plain": [
       "              Volume\n",
       "date_time           \n",
       "2018-01-01  203384.0\n",
       "2018-01-02  214048.0\n",
       "2018-01-03  207680.0\n",
       "2018-01-04  206323.0\n",
       "2018-01-05  203598.0"
      ]
     },
     "execution_count": 66,
     "metadata": {},
     "output_type": "execute_result"
    }
   ],
   "source": [
    "data_meter_down = data_2.resample('D').sum()\n",
    "data_meter_down = data_meter_down.to_frame()\n",
    "data_meter_down.head()"
   ]
  },
  {
   "cell_type": "code",
   "execution_count": 8,
   "id": "af2ede07",
   "metadata": {},
   "outputs": [],
   "source": [
    "data_meter_down.to_csv('Demand 1 Daily Meter.csv')"
   ]
  },
  {
   "cell_type": "code",
   "execution_count": null,
   "id": "7cc7142d",
   "metadata": {},
   "outputs": [],
   "source": []
  }
 ],
 "metadata": {
  "kernelspec": {
   "display_name": "Python 3 (ipykernel)",
   "language": "python",
   "name": "python3"
  },
  "language_info": {
   "codemirror_mode": {
    "name": "ipython",
    "version": 3
   },
   "file_extension": ".py",
   "mimetype": "text/x-python",
   "name": "python",
   "nbconvert_exporter": "python",
   "pygments_lexer": "ipython3",
   "version": "3.9.7"
  }
 },
 "nbformat": 4,
 "nbformat_minor": 5
}
