{
 "cells": [
  {
   "cell_type": "code",
   "execution_count": 1,
   "id": "b541900e",
   "metadata": {},
   "outputs": [],
   "source": [
    "import pandas as pd\n",
    "import numpy as np"
   ]
  },
  {
   "cell_type": "code",
   "execution_count": 8,
   "id": "c8401031",
   "metadata": {},
   "outputs": [],
   "source": [
    "#Connecting to data\n",
    "meter = pd.read_csv('Demand 1 meter.csv')\n",
    "weather = pd.read_csv('demand_1.2_weather.csv')"
   ]
  },
  {
   "cell_type": "markdown",
   "id": "ee5456f6",
   "metadata": {},
   "source": [
    "<H1>Data Preparation</H1>"
   ]
  },
  {
   "cell_type": "code",
   "execution_count": 9,
   "id": "ee3a1cfb",
   "metadata": {},
   "outputs": [
    {
     "data": {
      "text/html": [
       "<div>\n",
       "<style scoped>\n",
       "    .dataframe tbody tr th:only-of-type {\n",
       "        vertical-align: middle;\n",
       "    }\n",
       "\n",
       "    .dataframe tbody tr th {\n",
       "        vertical-align: top;\n",
       "    }\n",
       "\n",
       "    .dataframe thead th {\n",
       "        text-align: right;\n",
       "    }\n",
       "</style>\n",
       "<table border=\"1\" class=\"dataframe\">\n",
       "  <thead>\n",
       "    <tr style=\"text-align: right;\">\n",
       "      <th></th>\n",
       "      <th>temperature</th>\n",
       "      <th>dewpoint</th>\n",
       "      <th>cloud_cover</th>\n",
       "      <th>humidity</th>\n",
       "      <th>wind_speed</th>\n",
       "      <th>wind_direction</th>\n",
       "      <th>precipitation</th>\n",
       "    </tr>\n",
       "    <tr>\n",
       "      <th>date_time</th>\n",
       "      <th></th>\n",
       "      <th></th>\n",
       "      <th></th>\n",
       "      <th></th>\n",
       "      <th></th>\n",
       "      <th></th>\n",
       "      <th></th>\n",
       "    </tr>\n",
       "  </thead>\n",
       "  <tbody>\n",
       "    <tr>\n",
       "      <th>2018-01-01 00:00:00</th>\n",
       "      <td>-2.0</td>\n",
       "      <td>-12.0</td>\n",
       "      <td>0</td>\n",
       "      <td>62</td>\n",
       "      <td>11.5</td>\n",
       "      <td>290</td>\n",
       "      <td>0.0</td>\n",
       "    </tr>\n",
       "    <tr>\n",
       "      <th>2018-01-01 01:00:00</th>\n",
       "      <td>-2.0</td>\n",
       "      <td>-13.0</td>\n",
       "      <td>0</td>\n",
       "      <td>59</td>\n",
       "      <td>16.1</td>\n",
       "      <td>310</td>\n",
       "      <td>0.0</td>\n",
       "    </tr>\n",
       "    <tr>\n",
       "      <th>2018-01-01 02:00:00</th>\n",
       "      <td>-3.0</td>\n",
       "      <td>-14.0</td>\n",
       "      <td>0</td>\n",
       "      <td>59</td>\n",
       "      <td>10.4</td>\n",
       "      <td>310</td>\n",
       "      <td>0.0</td>\n",
       "    </tr>\n",
       "    <tr>\n",
       "      <th>2018-01-01 03:00:00</th>\n",
       "      <td>-4.0</td>\n",
       "      <td>-14.0</td>\n",
       "      <td>0</td>\n",
       "      <td>62</td>\n",
       "      <td>11.5</td>\n",
       "      <td>300</td>\n",
       "      <td>0.0</td>\n",
       "    </tr>\n",
       "    <tr>\n",
       "      <th>2018-01-01 04:00:00</th>\n",
       "      <td>-4.0</td>\n",
       "      <td>-15.0</td>\n",
       "      <td>0</td>\n",
       "      <td>59</td>\n",
       "      <td>13.8</td>\n",
       "      <td>310</td>\n",
       "      <td>0.0</td>\n",
       "    </tr>\n",
       "  </tbody>\n",
       "</table>\n",
       "</div>"
      ],
      "text/plain": [
       "                     temperature  dewpoint  cloud_cover  humidity  wind_speed  \\\n",
       "date_time                                                                       \n",
       "2018-01-01 00:00:00         -2.0     -12.0            0        62        11.5   \n",
       "2018-01-01 01:00:00         -2.0     -13.0            0        59        16.1   \n",
       "2018-01-01 02:00:00         -3.0     -14.0            0        59        10.4   \n",
       "2018-01-01 03:00:00         -4.0     -14.0            0        62        11.5   \n",
       "2018-01-01 04:00:00         -4.0     -15.0            0        59        13.8   \n",
       "\n",
       "                     wind_direction  precipitation  \n",
       "date_time                                           \n",
       "2018-01-01 00:00:00             290            0.0  \n",
       "2018-01-01 01:00:00             310            0.0  \n",
       "2018-01-01 02:00:00             310            0.0  \n",
       "2018-01-01 03:00:00             300            0.0  \n",
       "2018-01-01 04:00:00             310            0.0  "
      ]
     },
     "execution_count": 9,
     "metadata": {},
     "output_type": "execute_result"
    }
   ],
   "source": [
    "#Weather data preparation\n",
    "data_weather = weather.set_index(pd.DatetimeIndex(weather['date_time']))\n",
    "data_weather = data_weather[['temperature', 'dewpoint', 'cloud_cover', 'humidity', 'wind_speed', 'wind_direction', 'precipitation']]\n",
    "data_weather.head()"
   ]
  },
  {
   "cell_type": "code",
   "execution_count": null,
   "id": "45d23933",
   "metadata": {},
   "outputs": [],
   "source": []
  },
  {
   "cell_type": "code",
   "execution_count": 10,
   "id": "d88dbb4e",
   "metadata": {},
   "outputs": [
    {
     "name": "stderr",
     "output_type": "stream",
     "text": [
      "C:\\Users\\BIKRAM~1\\AppData\\Local\\Temp/ipykernel_14300/1750588931.py:3: SettingWithCopyWarning: \n",
      "A value is trying to be set on a copy of a slice from a DataFrame.\n",
      "Try using .loc[row_indexer,col_indexer] = value instead\n",
      "\n",
      "See the caveats in the documentation: https://pandas.pydata.org/pandas-docs/stable/user_guide/indexing.html#returning-a-view-versus-a-copy\n",
      "  data_meter['Date'] = pd.to_datetime(data_meter['Date'])\n"
     ]
    },
    {
     "ename": "ValueError",
     "evalue": "unconverted data remains: 4",
     "output_type": "error",
     "traceback": [
      "\u001b[1;31m---------------------------------------------------------------------------\u001b[0m",
      "\u001b[1;31mTypeError\u001b[0m                                 Traceback (most recent call last)",
      "\u001b[1;32mC:\\anaconda\\anaconda3\\lib\\site-packages\\pandas\\core\\tools\\datetimes.py\u001b[0m in \u001b[0;36m_to_datetime_with_format\u001b[1;34m(arg, orig_arg, name, tz, fmt, exact, errors, infer_datetime_format)\u001b[0m\n\u001b[0;32m    508\u001b[0m         \u001b[1;32mtry\u001b[0m\u001b[1;33m:\u001b[0m\u001b[1;33m\u001b[0m\u001b[1;33m\u001b[0m\u001b[0m\n\u001b[1;32m--> 509\u001b[1;33m             \u001b[0mvalues\u001b[0m\u001b[1;33m,\u001b[0m \u001b[0mtz\u001b[0m \u001b[1;33m=\u001b[0m \u001b[0mconversion\u001b[0m\u001b[1;33m.\u001b[0m\u001b[0mdatetime_to_datetime64\u001b[0m\u001b[1;33m(\u001b[0m\u001b[0marg\u001b[0m\u001b[1;33m)\u001b[0m\u001b[1;33m\u001b[0m\u001b[1;33m\u001b[0m\u001b[0m\n\u001b[0m\u001b[0;32m    510\u001b[0m             \u001b[0mdta\u001b[0m \u001b[1;33m=\u001b[0m \u001b[0mDatetimeArray\u001b[0m\u001b[1;33m(\u001b[0m\u001b[0mvalues\u001b[0m\u001b[1;33m,\u001b[0m \u001b[0mdtype\u001b[0m\u001b[1;33m=\u001b[0m\u001b[0mtz_to_dtype\u001b[0m\u001b[1;33m(\u001b[0m\u001b[0mtz\u001b[0m\u001b[1;33m)\u001b[0m\u001b[1;33m)\u001b[0m\u001b[1;33m\u001b[0m\u001b[1;33m\u001b[0m\u001b[0m\n",
      "\u001b[1;32mC:\\anaconda\\anaconda3\\lib\\site-packages\\pandas\\_libs\\tslibs\\conversion.pyx\u001b[0m in \u001b[0;36mpandas._libs.tslibs.conversion.datetime_to_datetime64\u001b[1;34m()\u001b[0m\n",
      "\u001b[1;31mTypeError\u001b[0m: Unrecognized value type: <class 'int'>",
      "\nDuring handling of the above exception, another exception occurred:\n",
      "\u001b[1;31mValueError\u001b[0m                                Traceback (most recent call last)",
      "\u001b[1;32mC:\\Users\\BIKRAM~1\\AppData\\Local\\Temp/ipykernel_14300/1750588931.py\u001b[0m in \u001b[0;36m<module>\u001b[1;34m\u001b[0m\n\u001b[0;32m      2\u001b[0m \u001b[0mdata_meter\u001b[0m \u001b[1;33m=\u001b[0m \u001b[0mmeter\u001b[0m\u001b[1;33m[\u001b[0m\u001b[1;33m[\u001b[0m\u001b[1;34m'Date'\u001b[0m\u001b[1;33m,\u001b[0m \u001b[1;34m'Hour'\u001b[0m\u001b[1;33m,\u001b[0m\u001b[1;34m'Volume'\u001b[0m\u001b[1;33m]\u001b[0m\u001b[1;33m]\u001b[0m\u001b[1;33m\u001b[0m\u001b[1;33m\u001b[0m\u001b[0m\n\u001b[0;32m      3\u001b[0m \u001b[0mdata_meter\u001b[0m\u001b[1;33m[\u001b[0m\u001b[1;34m'Date'\u001b[0m\u001b[1;33m]\u001b[0m \u001b[1;33m=\u001b[0m \u001b[0mpd\u001b[0m\u001b[1;33m.\u001b[0m\u001b[0mto_datetime\u001b[0m\u001b[1;33m(\u001b[0m\u001b[0mdata_meter\u001b[0m\u001b[1;33m[\u001b[0m\u001b[1;34m'Date'\u001b[0m\u001b[1;33m]\u001b[0m\u001b[1;33m)\u001b[0m\u001b[1;33m\u001b[0m\u001b[1;33m\u001b[0m\u001b[0m\n\u001b[1;32m----> 4\u001b[1;33m \u001b[0mdata_meter\u001b[0m\u001b[1;33m[\u001b[0m\u001b[1;34m'Hour'\u001b[0m\u001b[1;33m]\u001b[0m \u001b[1;33m=\u001b[0m \u001b[0mpd\u001b[0m\u001b[1;33m.\u001b[0m\u001b[0mto_datetime\u001b[0m\u001b[1;33m(\u001b[0m\u001b[0mdata_meter\u001b[0m\u001b[1;33m[\u001b[0m\u001b[1;34m'Hour'\u001b[0m\u001b[1;33m]\u001b[0m\u001b[1;33m,\u001b[0m \u001b[0mformat\u001b[0m\u001b[1;33m=\u001b[0m\u001b[1;34m'%H'\u001b[0m\u001b[1;33m)\u001b[0m\u001b[1;33m\u001b[0m\u001b[1;33m\u001b[0m\u001b[0m\n\u001b[0m\u001b[0;32m      5\u001b[0m \u001b[0mdata_meter\u001b[0m\u001b[1;33m[\u001b[0m\u001b[1;34m'Hour'\u001b[0m\u001b[1;33m]\u001b[0m \u001b[1;33m=\u001b[0m \u001b[0mdata_meter\u001b[0m\u001b[1;33m[\u001b[0m\u001b[1;34m'Hour'\u001b[0m\u001b[1;33m]\u001b[0m\u001b[1;33m.\u001b[0m\u001b[0mdt\u001b[0m\u001b[1;33m.\u001b[0m\u001b[0mtime\u001b[0m\u001b[1;33m\u001b[0m\u001b[1;33m\u001b[0m\u001b[0m\n\u001b[0;32m      6\u001b[0m \u001b[0mdata_meter\u001b[0m\u001b[1;33m[\u001b[0m\u001b[1;34m'date_time'\u001b[0m\u001b[1;33m]\u001b[0m \u001b[1;33m=\u001b[0m \u001b[0mpd\u001b[0m\u001b[1;33m.\u001b[0m\u001b[0mto_datetime\u001b[0m\u001b[1;33m(\u001b[0m\u001b[0mdata_meter\u001b[0m\u001b[1;33m.\u001b[0m\u001b[0mDate\u001b[0m\u001b[1;33m.\u001b[0m\u001b[0mastype\u001b[0m\u001b[1;33m(\u001b[0m\u001b[0mstr\u001b[0m\u001b[1;33m)\u001b[0m \u001b[1;33m+\u001b[0m \u001b[1;34m' '\u001b[0m \u001b[1;33m+\u001b[0m \u001b[0mdata_meter\u001b[0m\u001b[1;33m.\u001b[0m\u001b[0mHour\u001b[0m\u001b[1;33m.\u001b[0m\u001b[0mastype\u001b[0m\u001b[1;33m(\u001b[0m\u001b[0mstr\u001b[0m\u001b[1;33m)\u001b[0m\u001b[1;33m)\u001b[0m\u001b[1;33m\u001b[0m\u001b[1;33m\u001b[0m\u001b[0m\n",
      "\u001b[1;32mC:\\anaconda\\anaconda3\\lib\\site-packages\\pandas\\core\\tools\\datetimes.py\u001b[0m in \u001b[0;36mto_datetime\u001b[1;34m(arg, errors, dayfirst, yearfirst, utc, format, exact, unit, infer_datetime_format, origin, cache)\u001b[0m\n\u001b[0;32m    881\u001b[0m                 \u001b[0mresult\u001b[0m \u001b[1;33m=\u001b[0m \u001b[0mresult\u001b[0m\u001b[1;33m.\u001b[0m\u001b[0mtz_localize\u001b[0m\u001b[1;33m(\u001b[0m\u001b[0mtz\u001b[0m\u001b[1;33m)\u001b[0m  \u001b[1;31m# type: ignore[call-arg]\u001b[0m\u001b[1;33m\u001b[0m\u001b[1;33m\u001b[0m\u001b[0m\n\u001b[0;32m    882\u001b[0m     \u001b[1;32melif\u001b[0m \u001b[0misinstance\u001b[0m\u001b[1;33m(\u001b[0m\u001b[0marg\u001b[0m\u001b[1;33m,\u001b[0m \u001b[0mABCSeries\u001b[0m\u001b[1;33m)\u001b[0m\u001b[1;33m:\u001b[0m\u001b[1;33m\u001b[0m\u001b[1;33m\u001b[0m\u001b[0m\n\u001b[1;32m--> 883\u001b[1;33m         \u001b[0mcache_array\u001b[0m \u001b[1;33m=\u001b[0m \u001b[0m_maybe_cache\u001b[0m\u001b[1;33m(\u001b[0m\u001b[0marg\u001b[0m\u001b[1;33m,\u001b[0m \u001b[0mformat\u001b[0m\u001b[1;33m,\u001b[0m \u001b[0mcache\u001b[0m\u001b[1;33m,\u001b[0m \u001b[0mconvert_listlike\u001b[0m\u001b[1;33m)\u001b[0m\u001b[1;33m\u001b[0m\u001b[1;33m\u001b[0m\u001b[0m\n\u001b[0m\u001b[0;32m    884\u001b[0m         \u001b[1;32mif\u001b[0m \u001b[1;32mnot\u001b[0m \u001b[0mcache_array\u001b[0m\u001b[1;33m.\u001b[0m\u001b[0mempty\u001b[0m\u001b[1;33m:\u001b[0m\u001b[1;33m\u001b[0m\u001b[1;33m\u001b[0m\u001b[0m\n\u001b[0;32m    885\u001b[0m             \u001b[0mresult\u001b[0m \u001b[1;33m=\u001b[0m \u001b[0marg\u001b[0m\u001b[1;33m.\u001b[0m\u001b[0mmap\u001b[0m\u001b[1;33m(\u001b[0m\u001b[0mcache_array\u001b[0m\u001b[1;33m)\u001b[0m\u001b[1;33m\u001b[0m\u001b[1;33m\u001b[0m\u001b[0m\n",
      "\u001b[1;32mC:\\anaconda\\anaconda3\\lib\\site-packages\\pandas\\core\\tools\\datetimes.py\u001b[0m in \u001b[0;36m_maybe_cache\u001b[1;34m(arg, format, cache, convert_listlike)\u001b[0m\n\u001b[0;32m    193\u001b[0m         \u001b[0munique_dates\u001b[0m \u001b[1;33m=\u001b[0m \u001b[0munique\u001b[0m\u001b[1;33m(\u001b[0m\u001b[0marg\u001b[0m\u001b[1;33m)\u001b[0m\u001b[1;33m\u001b[0m\u001b[1;33m\u001b[0m\u001b[0m\n\u001b[0;32m    194\u001b[0m         \u001b[1;32mif\u001b[0m \u001b[0mlen\u001b[0m\u001b[1;33m(\u001b[0m\u001b[0munique_dates\u001b[0m\u001b[1;33m)\u001b[0m \u001b[1;33m<\u001b[0m \u001b[0mlen\u001b[0m\u001b[1;33m(\u001b[0m\u001b[0marg\u001b[0m\u001b[1;33m)\u001b[0m\u001b[1;33m:\u001b[0m\u001b[1;33m\u001b[0m\u001b[1;33m\u001b[0m\u001b[0m\n\u001b[1;32m--> 195\u001b[1;33m             \u001b[0mcache_dates\u001b[0m \u001b[1;33m=\u001b[0m \u001b[0mconvert_listlike\u001b[0m\u001b[1;33m(\u001b[0m\u001b[0munique_dates\u001b[0m\u001b[1;33m,\u001b[0m \u001b[0mformat\u001b[0m\u001b[1;33m)\u001b[0m\u001b[1;33m\u001b[0m\u001b[1;33m\u001b[0m\u001b[0m\n\u001b[0m\u001b[0;32m    196\u001b[0m             \u001b[0mcache_array\u001b[0m \u001b[1;33m=\u001b[0m \u001b[0mSeries\u001b[0m\u001b[1;33m(\u001b[0m\u001b[0mcache_dates\u001b[0m\u001b[1;33m,\u001b[0m \u001b[0mindex\u001b[0m\u001b[1;33m=\u001b[0m\u001b[0munique_dates\u001b[0m\u001b[1;33m)\u001b[0m\u001b[1;33m\u001b[0m\u001b[1;33m\u001b[0m\u001b[0m\n\u001b[0;32m    197\u001b[0m             \u001b[1;31m# GH#39882 and GH#35888 in case of None and NaT we get duplicates\u001b[0m\u001b[1;33m\u001b[0m\u001b[1;33m\u001b[0m\u001b[0m\n",
      "\u001b[1;32mC:\\anaconda\\anaconda3\\lib\\site-packages\\pandas\\core\\tools\\datetimes.py\u001b[0m in \u001b[0;36m_convert_listlike_datetimes\u001b[1;34m(arg, format, name, tz, unit, errors, infer_datetime_format, dayfirst, yearfirst, exact)\u001b[0m\n\u001b[0;32m    391\u001b[0m \u001b[1;33m\u001b[0m\u001b[0m\n\u001b[0;32m    392\u001b[0m     \u001b[1;32mif\u001b[0m \u001b[0mformat\u001b[0m \u001b[1;32mis\u001b[0m \u001b[1;32mnot\u001b[0m \u001b[1;32mNone\u001b[0m\u001b[1;33m:\u001b[0m\u001b[1;33m\u001b[0m\u001b[1;33m\u001b[0m\u001b[0m\n\u001b[1;32m--> 393\u001b[1;33m         res = _to_datetime_with_format(\n\u001b[0m\u001b[0;32m    394\u001b[0m             \u001b[0marg\u001b[0m\u001b[1;33m,\u001b[0m \u001b[0morig_arg\u001b[0m\u001b[1;33m,\u001b[0m \u001b[0mname\u001b[0m\u001b[1;33m,\u001b[0m \u001b[0mtz\u001b[0m\u001b[1;33m,\u001b[0m \u001b[0mformat\u001b[0m\u001b[1;33m,\u001b[0m \u001b[0mexact\u001b[0m\u001b[1;33m,\u001b[0m \u001b[0merrors\u001b[0m\u001b[1;33m,\u001b[0m \u001b[0minfer_datetime_format\u001b[0m\u001b[1;33m\u001b[0m\u001b[1;33m\u001b[0m\u001b[0m\n\u001b[0;32m    395\u001b[0m         )\n",
      "\u001b[1;32mC:\\anaconda\\anaconda3\\lib\\site-packages\\pandas\\core\\tools\\datetimes.py\u001b[0m in \u001b[0;36m_to_datetime_with_format\u001b[1;34m(arg, orig_arg, name, tz, fmt, exact, errors, infer_datetime_format)\u001b[0m\n\u001b[0;32m    511\u001b[0m             \u001b[1;32mreturn\u001b[0m \u001b[0mDatetimeIndex\u001b[0m\u001b[1;33m.\u001b[0m\u001b[0m_simple_new\u001b[0m\u001b[1;33m(\u001b[0m\u001b[0mdta\u001b[0m\u001b[1;33m,\u001b[0m \u001b[0mname\u001b[0m\u001b[1;33m=\u001b[0m\u001b[0mname\u001b[0m\u001b[1;33m)\u001b[0m\u001b[1;33m\u001b[0m\u001b[1;33m\u001b[0m\u001b[0m\n\u001b[0;32m    512\u001b[0m         \u001b[1;32mexcept\u001b[0m \u001b[1;33m(\u001b[0m\u001b[0mValueError\u001b[0m\u001b[1;33m,\u001b[0m \u001b[0mTypeError\u001b[0m\u001b[1;33m)\u001b[0m\u001b[1;33m:\u001b[0m\u001b[1;33m\u001b[0m\u001b[1;33m\u001b[0m\u001b[0m\n\u001b[1;32m--> 513\u001b[1;33m             \u001b[1;32mraise\u001b[0m \u001b[0merr\u001b[0m\u001b[1;33m\u001b[0m\u001b[1;33m\u001b[0m\u001b[0m\n\u001b[0m\u001b[0;32m    514\u001b[0m \u001b[1;33m\u001b[0m\u001b[0m\n\u001b[0;32m    515\u001b[0m \u001b[1;33m\u001b[0m\u001b[0m\n",
      "\u001b[1;32mC:\\anaconda\\anaconda3\\lib\\site-packages\\pandas\\core\\tools\\datetimes.py\u001b[0m in \u001b[0;36m_to_datetime_with_format\u001b[1;34m(arg, orig_arg, name, tz, fmt, exact, errors, infer_datetime_format)\u001b[0m\n\u001b[0;32m    498\u001b[0m \u001b[1;33m\u001b[0m\u001b[0m\n\u001b[0;32m    499\u001b[0m         \u001b[1;31m# fallback\u001b[0m\u001b[1;33m\u001b[0m\u001b[1;33m\u001b[0m\u001b[0m\n\u001b[1;32m--> 500\u001b[1;33m         res = _array_strptime_with_fallback(\n\u001b[0m\u001b[0;32m    501\u001b[0m             \u001b[0marg\u001b[0m\u001b[1;33m,\u001b[0m \u001b[0mname\u001b[0m\u001b[1;33m,\u001b[0m \u001b[0mtz\u001b[0m\u001b[1;33m,\u001b[0m \u001b[0mfmt\u001b[0m\u001b[1;33m,\u001b[0m \u001b[0mexact\u001b[0m\u001b[1;33m,\u001b[0m \u001b[0merrors\u001b[0m\u001b[1;33m,\u001b[0m \u001b[0minfer_datetime_format\u001b[0m\u001b[1;33m\u001b[0m\u001b[1;33m\u001b[0m\u001b[0m\n\u001b[0;32m    502\u001b[0m         )\n",
      "\u001b[1;32mC:\\anaconda\\anaconda3\\lib\\site-packages\\pandas\\core\\tools\\datetimes.py\u001b[0m in \u001b[0;36m_array_strptime_with_fallback\u001b[1;34m(arg, name, tz, fmt, exact, errors, infer_datetime_format)\u001b[0m\n\u001b[0;32m    434\u001b[0m \u001b[1;33m\u001b[0m\u001b[0m\n\u001b[0;32m    435\u001b[0m     \u001b[1;32mtry\u001b[0m\u001b[1;33m:\u001b[0m\u001b[1;33m\u001b[0m\u001b[1;33m\u001b[0m\u001b[0m\n\u001b[1;32m--> 436\u001b[1;33m         \u001b[0mresult\u001b[0m\u001b[1;33m,\u001b[0m \u001b[0mtimezones\u001b[0m \u001b[1;33m=\u001b[0m \u001b[0marray_strptime\u001b[0m\u001b[1;33m(\u001b[0m\u001b[0marg\u001b[0m\u001b[1;33m,\u001b[0m \u001b[0mfmt\u001b[0m\u001b[1;33m,\u001b[0m \u001b[0mexact\u001b[0m\u001b[1;33m=\u001b[0m\u001b[0mexact\u001b[0m\u001b[1;33m,\u001b[0m \u001b[0merrors\u001b[0m\u001b[1;33m=\u001b[0m\u001b[0merrors\u001b[0m\u001b[1;33m)\u001b[0m\u001b[1;33m\u001b[0m\u001b[1;33m\u001b[0m\u001b[0m\n\u001b[0m\u001b[0;32m    437\u001b[0m         \u001b[1;32mif\u001b[0m \u001b[1;34m\"%Z\"\u001b[0m \u001b[1;32min\u001b[0m \u001b[0mfmt\u001b[0m \u001b[1;32mor\u001b[0m \u001b[1;34m\"%z\"\u001b[0m \u001b[1;32min\u001b[0m \u001b[0mfmt\u001b[0m\u001b[1;33m:\u001b[0m\u001b[1;33m\u001b[0m\u001b[1;33m\u001b[0m\u001b[0m\n\u001b[0;32m    438\u001b[0m             \u001b[1;32mreturn\u001b[0m \u001b[0m_return_parsed_timezone_results\u001b[0m\u001b[1;33m(\u001b[0m\u001b[0mresult\u001b[0m\u001b[1;33m,\u001b[0m \u001b[0mtimezones\u001b[0m\u001b[1;33m,\u001b[0m \u001b[0mtz\u001b[0m\u001b[1;33m,\u001b[0m \u001b[0mname\u001b[0m\u001b[1;33m)\u001b[0m\u001b[1;33m\u001b[0m\u001b[1;33m\u001b[0m\u001b[0m\n",
      "\u001b[1;32mC:\\anaconda\\anaconda3\\lib\\site-packages\\pandas\\_libs\\tslibs\\strptime.pyx\u001b[0m in \u001b[0;36mpandas._libs.tslibs.strptime.array_strptime\u001b[1;34m()\u001b[0m\n",
      "\u001b[1;31mValueError\u001b[0m: unconverted data remains: 4"
     ]
    }
   ],
   "source": [
    "#meter data preparation\n",
    "data_meter = meter[['Date', 'Hour','Volume']]\n",
    "data_meter['Date'] = pd.to_datetime(data_meter['Date'])\n",
    "data_meter['Hour'] = pd.to_datetime(data_meter['Hour'], format='%H')\n",
    "data_meter['Hour'] = data_meter['Hour'].dt.time\n",
    "data_meter['date_time'] = pd.to_datetime(data_meter.Date.astype(str) + ' ' + data_meter.Hour.astype(str))\n",
    "data_2 = data_meter[['date_time' ,'Volume']]\n",
    "data_2 = data_2.set_index(pd.DatetimeIndex(data_2['date_time']), drop=True)\n",
    "data_2 = data_2['Volume']\n",
    "data_2.head()"
   ]
  },
  {
   "cell_type": "markdown",
   "id": "e7c16267",
   "metadata": {},
   "source": [
    "<H1>Data Upsampling</H1>"
   ]
  },
  {
   "cell_type": "markdown",
   "id": "c25d87f9",
   "metadata": {},
   "source": [
    "<H2>Weather Data Upsampling</H2>"
   ]
  },
  {
   "cell_type": "markdown",
   "id": "aa1d6b8b",
   "metadata": {},
   "source": [
    "<H3>To convert to minutes than convert to sencond. eg. 5min = 300s</H3>"
   ]
  },
  {
   "cell_type": "code",
   "execution_count": 11,
   "id": "cceb7348",
   "metadata": {},
   "outputs": [],
   "source": [
    "data_weather_2 = data_weather[data_weather.index <= '2021-12-31 23:00:00']\n",
    "#data_weather_2 = data_weather[data_weather.index >= '2018-01-01 00:00:00']"
   ]
  },
  {
   "cell_type": "code",
   "execution_count": 15,
   "id": "5f385a91",
   "metadata": {},
   "outputs": [
    {
     "data": {
      "text/html": [
       "<div>\n",
       "<style scoped>\n",
       "    .dataframe tbody tr th:only-of-type {\n",
       "        vertical-align: middle;\n",
       "    }\n",
       "\n",
       "    .dataframe tbody tr th {\n",
       "        vertical-align: top;\n",
       "    }\n",
       "\n",
       "    .dataframe thead th {\n",
       "        text-align: right;\n",
       "    }\n",
       "</style>\n",
       "<table border=\"1\" class=\"dataframe\">\n",
       "  <thead>\n",
       "    <tr style=\"text-align: right;\">\n",
       "      <th></th>\n",
       "      <th>temperature</th>\n",
       "      <th>dewpoint</th>\n",
       "      <th>cloud_cover</th>\n",
       "      <th>humidity</th>\n",
       "      <th>wind_speed</th>\n",
       "      <th>wind_direction</th>\n",
       "      <th>precipitation</th>\n",
       "    </tr>\n",
       "    <tr>\n",
       "      <th>date_time</th>\n",
       "      <th></th>\n",
       "      <th></th>\n",
       "      <th></th>\n",
       "      <th></th>\n",
       "      <th></th>\n",
       "      <th></th>\n",
       "      <th></th>\n",
       "    </tr>\n",
       "  </thead>\n",
       "  <tbody>\n",
       "    <tr>\n",
       "      <th>2018-01-01 00:00:00</th>\n",
       "      <td>-2.0</td>\n",
       "      <td>-12.0</td>\n",
       "      <td>0.0</td>\n",
       "      <td>62.0</td>\n",
       "      <td>11.50</td>\n",
       "      <td>290.0</td>\n",
       "      <td>0.0</td>\n",
       "    </tr>\n",
       "    <tr>\n",
       "      <th>2018-01-01 00:30:00</th>\n",
       "      <td>-2.0</td>\n",
       "      <td>-12.5</td>\n",
       "      <td>0.0</td>\n",
       "      <td>60.5</td>\n",
       "      <td>13.80</td>\n",
       "      <td>300.0</td>\n",
       "      <td>0.0</td>\n",
       "    </tr>\n",
       "    <tr>\n",
       "      <th>2018-01-01 01:00:00</th>\n",
       "      <td>-2.0</td>\n",
       "      <td>-13.0</td>\n",
       "      <td>0.0</td>\n",
       "      <td>59.0</td>\n",
       "      <td>16.10</td>\n",
       "      <td>310.0</td>\n",
       "      <td>0.0</td>\n",
       "    </tr>\n",
       "    <tr>\n",
       "      <th>2018-01-01 01:30:00</th>\n",
       "      <td>-2.5</td>\n",
       "      <td>-13.5</td>\n",
       "      <td>0.0</td>\n",
       "      <td>59.0</td>\n",
       "      <td>13.25</td>\n",
       "      <td>310.0</td>\n",
       "      <td>0.0</td>\n",
       "    </tr>\n",
       "    <tr>\n",
       "      <th>2018-01-01 02:00:00</th>\n",
       "      <td>-3.0</td>\n",
       "      <td>-14.0</td>\n",
       "      <td>0.0</td>\n",
       "      <td>59.0</td>\n",
       "      <td>10.40</td>\n",
       "      <td>310.0</td>\n",
       "      <td>0.0</td>\n",
       "    </tr>\n",
       "  </tbody>\n",
       "</table>\n",
       "</div>"
      ],
      "text/plain": [
       "                     temperature  dewpoint  cloud_cover  humidity  wind_speed  \\\n",
       "date_time                                                                       \n",
       "2018-01-01 00:00:00         -2.0     -12.0          0.0      62.0       11.50   \n",
       "2018-01-01 00:30:00         -2.0     -12.5          0.0      60.5       13.80   \n",
       "2018-01-01 01:00:00         -2.0     -13.0          0.0      59.0       16.10   \n",
       "2018-01-01 01:30:00         -2.5     -13.5          0.0      59.0       13.25   \n",
       "2018-01-01 02:00:00         -3.0     -14.0          0.0      59.0       10.40   \n",
       "\n",
       "                     wind_direction  precipitation  \n",
       "date_time                                           \n",
       "2018-01-01 00:00:00           290.0            0.0  \n",
       "2018-01-01 00:30:00           300.0            0.0  \n",
       "2018-01-01 01:00:00           310.0            0.0  \n",
       "2018-01-01 01:30:00           310.0            0.0  \n",
       "2018-01-01 02:00:00           310.0            0.0  "
      ]
     },
     "execution_count": 15,
     "metadata": {},
     "output_type": "execute_result"
    }
   ],
   "source": [
    "data_weather_2 = data_weather_2.resample('1800S').asfreq()\n",
    "data_2_weather = data_weather_2.interpolate(method='linear')\n",
    "data_2_weather.head()"
   ]
  },
  {
   "cell_type": "code",
   "execution_count": 35,
   "id": "7e11245b",
   "metadata": {},
   "outputs": [
    {
     "data": {
      "text/html": [
       "<div>\n",
       "<style scoped>\n",
       "    .dataframe tbody tr th:only-of-type {\n",
       "        vertical-align: middle;\n",
       "    }\n",
       "\n",
       "    .dataframe tbody tr th {\n",
       "        vertical-align: top;\n",
       "    }\n",
       "\n",
       "    .dataframe thead th {\n",
       "        text-align: right;\n",
       "    }\n",
       "</style>\n",
       "<table border=\"1\" class=\"dataframe\">\n",
       "  <thead>\n",
       "    <tr style=\"text-align: right;\">\n",
       "      <th></th>\n",
       "      <th>temperature</th>\n",
       "      <th>dewpoint</th>\n",
       "      <th>cloud_cover</th>\n",
       "      <th>humidity</th>\n",
       "      <th>wind_speed</th>\n",
       "      <th>wind_direction</th>\n",
       "      <th>precipitation</th>\n",
       "    </tr>\n",
       "    <tr>\n",
       "      <th>date_time</th>\n",
       "      <th></th>\n",
       "      <th></th>\n",
       "      <th></th>\n",
       "      <th></th>\n",
       "      <th></th>\n",
       "      <th></th>\n",
       "      <th></th>\n",
       "    </tr>\n",
       "  </thead>\n",
       "  <tbody>\n",
       "    <tr>\n",
       "      <th>2021-12-31 22:40:00</th>\n",
       "      <td>40.697558</td>\n",
       "      <td>38.532910</td>\n",
       "      <td>98.657174</td>\n",
       "      <td>91.893194</td>\n",
       "      <td>6.347489</td>\n",
       "      <td>219.017355</td>\n",
       "      <td>0.000008</td>\n",
       "    </tr>\n",
       "    <tr>\n",
       "      <th>2021-12-31 22:45:00</th>\n",
       "      <td>40.706118</td>\n",
       "      <td>38.580719</td>\n",
       "      <td>98.700965</td>\n",
       "      <td>92.124126</td>\n",
       "      <td>6.186604</td>\n",
       "      <td>219.648188</td>\n",
       "      <td>0.000007</td>\n",
       "    </tr>\n",
       "    <tr>\n",
       "      <th>2021-12-31 22:50:00</th>\n",
       "      <td>40.725405</td>\n",
       "      <td>38.640681</td>\n",
       "      <td>98.771251</td>\n",
       "      <td>92.384904</td>\n",
       "      <td>5.993065</td>\n",
       "      <td>220.352209</td>\n",
       "      <td>0.000006</td>\n",
       "    </tr>\n",
       "    <tr>\n",
       "      <th>2021-12-31 22:55:00</th>\n",
       "      <td>40.756379</td>\n",
       "      <td>38.713531</td>\n",
       "      <td>98.870206</td>\n",
       "      <td>92.676528</td>\n",
       "      <td>5.764867</td>\n",
       "      <td>221.134465</td>\n",
       "      <td>0.000003</td>\n",
       "    </tr>\n",
       "    <tr>\n",
       "      <th>2021-12-31 23:00:00</th>\n",
       "      <td>40.800000</td>\n",
       "      <td>38.800000</td>\n",
       "      <td>99.000000</td>\n",
       "      <td>93.000000</td>\n",
       "      <td>5.500000</td>\n",
       "      <td>222.000000</td>\n",
       "      <td>0.000000</td>\n",
       "    </tr>\n",
       "  </tbody>\n",
       "</table>\n",
       "</div>"
      ],
      "text/plain": [
       "                     temperature   dewpoint  cloud_cover   humidity  \\\n",
       "date_time                                                             \n",
       "2021-12-31 22:40:00    40.697558  38.532910    98.657174  91.893194   \n",
       "2021-12-31 22:45:00    40.706118  38.580719    98.700965  92.124126   \n",
       "2021-12-31 22:50:00    40.725405  38.640681    98.771251  92.384904   \n",
       "2021-12-31 22:55:00    40.756379  38.713531    98.870206  92.676528   \n",
       "2021-12-31 23:00:00    40.800000  38.800000    99.000000  93.000000   \n",
       "\n",
       "                     wind_speed  wind_direction  precipitation  \n",
       "date_time                                                       \n",
       "2021-12-31 22:40:00    6.347489      219.017355       0.000008  \n",
       "2021-12-31 22:45:00    6.186604      219.648188       0.000007  \n",
       "2021-12-31 22:50:00    5.993065      220.352209       0.000006  \n",
       "2021-12-31 22:55:00    5.764867      221.134465       0.000003  \n",
       "2021-12-31 23:00:00    5.500000      222.000000       0.000000  "
      ]
     },
     "execution_count": 35,
     "metadata": {},
     "output_type": "execute_result"
    }
   ],
   "source": [
    "data_2_weather.tail()"
   ]
  },
  {
   "cell_type": "code",
   "execution_count": 36,
   "id": "371bb6a0",
   "metadata": {},
   "outputs": [],
   "source": [
    "data_2_weather.to_csv('Demand 1 5 Min Weather.csv')"
   ]
  },
  {
   "cell_type": "code",
   "execution_count": 32,
   "id": "ef3b68d6",
   "metadata": {},
   "outputs": [
    {
     "data": {
      "text/plain": [
       "(105109, 7)"
      ]
     },
     "execution_count": 32,
     "metadata": {},
     "output_type": "execute_result"
    }
   ],
   "source": [
    "data_2_weather.shape"
   ]
  },
  {
   "cell_type": "code",
   "execution_count": null,
   "id": "2e4a490a",
   "metadata": {},
   "outputs": [],
   "source": []
  },
  {
   "cell_type": "markdown",
   "id": "e002a92c",
   "metadata": {},
   "source": [
    "<H2>Meter data Upsampling</H2>"
   ]
  },
  {
   "cell_type": "code",
   "execution_count": 13,
   "id": "43e6b84c",
   "metadata": {},
   "outputs": [],
   "source": [
    "data_2 = data_2[data_2.index <= '2021-12-31 23:00:00']\n",
    "#data_2 = data_2[data_2.index >= '2019-01-01 00:00:00']"
   ]
  },
  {
   "cell_type": "code",
   "execution_count": 14,
   "id": "a26a9da2",
   "metadata": {},
   "outputs": [
    {
     "data": {
      "text/html": [
       "<div>\n",
       "<style scoped>\n",
       "    .dataframe tbody tr th:only-of-type {\n",
       "        vertical-align: middle;\n",
       "    }\n",
       "\n",
       "    .dataframe tbody tr th {\n",
       "        vertical-align: top;\n",
       "    }\n",
       "\n",
       "    .dataframe thead th {\n",
       "        text-align: right;\n",
       "    }\n",
       "</style>\n",
       "<table border=\"1\" class=\"dataframe\">\n",
       "  <thead>\n",
       "    <tr style=\"text-align: right;\">\n",
       "      <th></th>\n",
       "      <th>Volume</th>\n",
       "    </tr>\n",
       "    <tr>\n",
       "      <th>date_time</th>\n",
       "      <th></th>\n",
       "    </tr>\n",
       "  </thead>\n",
       "  <tbody>\n",
       "    <tr>\n",
       "      <th>2018-01-01 00:00:00</th>\n",
       "      <td>8313.000000</td>\n",
       "    </tr>\n",
       "    <tr>\n",
       "      <th>2018-01-01 00:05:00</th>\n",
       "      <td>8267.852757</td>\n",
       "    </tr>\n",
       "    <tr>\n",
       "      <th>2018-01-01 00:10:00</th>\n",
       "      <td>8223.997548</td>\n",
       "    </tr>\n",
       "    <tr>\n",
       "      <th>2018-01-01 00:15:00</th>\n",
       "      <td>8181.422976</td>\n",
       "    </tr>\n",
       "    <tr>\n",
       "      <th>2018-01-01 00:20:00</th>\n",
       "      <td>8140.117645</td>\n",
       "    </tr>\n",
       "  </tbody>\n",
       "</table>\n",
       "</div>"
      ],
      "text/plain": [
       "                          Volume\n",
       "date_time                       \n",
       "2018-01-01 00:00:00  8313.000000\n",
       "2018-01-01 00:05:00  8267.852757\n",
       "2018-01-01 00:10:00  8223.997548\n",
       "2018-01-01 00:15:00  8181.422976\n",
       "2018-01-01 00:20:00  8140.117645"
      ]
     },
     "execution_count": 14,
     "metadata": {},
     "output_type": "execute_result"
    }
   ],
   "source": [
    "data_3 = data_2.resample('300S').asfreq()\n",
    "data_3 = data_3.interpolate(method='cubic')\n",
    "data_3 = data_3.to_frame()\n",
    "data_3.head()"
   ]
  },
  {
   "cell_type": "code",
   "execution_count": 15,
   "id": "924b75ca",
   "metadata": {},
   "outputs": [
    {
     "data": {
      "text/html": [
       "<div>\n",
       "<style scoped>\n",
       "    .dataframe tbody tr th:only-of-type {\n",
       "        vertical-align: middle;\n",
       "    }\n",
       "\n",
       "    .dataframe tbody tr th {\n",
       "        vertical-align: top;\n",
       "    }\n",
       "\n",
       "    .dataframe thead th {\n",
       "        text-align: right;\n",
       "    }\n",
       "</style>\n",
       "<table border=\"1\" class=\"dataframe\">\n",
       "  <thead>\n",
       "    <tr style=\"text-align: right;\">\n",
       "      <th></th>\n",
       "      <th>Volume</th>\n",
       "      <th>Date</th>\n",
       "      <th>Hour</th>\n",
       "      <th>Minute</th>\n",
       "    </tr>\n",
       "    <tr>\n",
       "      <th>Date</th>\n",
       "      <th></th>\n",
       "      <th></th>\n",
       "      <th></th>\n",
       "      <th></th>\n",
       "    </tr>\n",
       "  </thead>\n",
       "  <tbody>\n",
       "    <tr>\n",
       "      <th>2021-12-31</th>\n",
       "      <td>7006.138712</td>\n",
       "      <td>2021-12-31</td>\n",
       "      <td>22</td>\n",
       "      <td>40</td>\n",
       "    </tr>\n",
       "    <tr>\n",
       "      <th>2021-12-31</th>\n",
       "      <td>6977.933828</td>\n",
       "      <td>2021-12-31</td>\n",
       "      <td>22</td>\n",
       "      <td>45</td>\n",
       "    </tr>\n",
       "    <tr>\n",
       "      <th>2021-12-31</th>\n",
       "      <td>6950.171754</td>\n",
       "      <td>2021-12-31</td>\n",
       "      <td>22</td>\n",
       "      <td>50</td>\n",
       "    </tr>\n",
       "    <tr>\n",
       "      <th>2021-12-31</th>\n",
       "      <td>6922.858481</td>\n",
       "      <td>2021-12-31</td>\n",
       "      <td>22</td>\n",
       "      <td>55</td>\n",
       "    </tr>\n",
       "    <tr>\n",
       "      <th>2021-12-31</th>\n",
       "      <td>6896.000000</td>\n",
       "      <td>2021-12-31</td>\n",
       "      <td>23</td>\n",
       "      <td>0</td>\n",
       "    </tr>\n",
       "  </tbody>\n",
       "</table>\n",
       "</div>"
      ],
      "text/plain": [
       "                 Volume        Date  Hour  Minute\n",
       "Date                                             \n",
       "2021-12-31  7006.138712  2021-12-31    22      40\n",
       "2021-12-31  6977.933828  2021-12-31    22      45\n",
       "2021-12-31  6950.171754  2021-12-31    22      50\n",
       "2021-12-31  6922.858481  2021-12-31    22      55\n",
       "2021-12-31  6896.000000  2021-12-31    23       0"
      ]
     },
     "execution_count": 15,
     "metadata": {},
     "output_type": "execute_result"
    }
   ],
   "source": [
    "data_3['Date'] = data_3.index.date\n",
    "data_3['Hour'] = data_3.index.hour\n",
    "data_3['Minute'] = data_3.index.minute\n",
    "data_3 = data_3.set_index(pd.DatetimeIndex(data_3['Date']), drop = True)\n",
    "data_3.tail()"
   ]
  },
  {
   "cell_type": "code",
   "execution_count": 16,
   "id": "e4144052",
   "metadata": {},
   "outputs": [],
   "source": [
    "data_3.to_csv(\"Demand 1 5 Min Meter.csv\")"
   ]
  },
  {
   "cell_type": "code",
   "execution_count": null,
   "id": "d85440d3",
   "metadata": {},
   "outputs": [],
   "source": []
  },
  {
   "cell_type": "markdown",
   "id": "9aecbaf9",
   "metadata": {},
   "source": [
    "<H1>Weather Data Downsampling</H1>"
   ]
  },
  {
   "cell_type": "markdown",
   "id": "691d0289",
   "metadata": {},
   "source": [
    "<H2>To downsample data to day use 'D', month='M', Year='Y'</H2>"
   ]
  },
  {
   "cell_type": "markdown",
   "id": "ef80b7f7",
   "metadata": {},
   "source": [
    "<H3>Weather Data Downsampling</H3>"
   ]
  },
  {
   "cell_type": "code",
   "execution_count": 16,
   "id": "77456b69",
   "metadata": {},
   "outputs": [
    {
     "data": {
      "text/html": [
       "<div>\n",
       "<style scoped>\n",
       "    .dataframe tbody tr th:only-of-type {\n",
       "        vertical-align: middle;\n",
       "    }\n",
       "\n",
       "    .dataframe tbody tr th {\n",
       "        vertical-align: top;\n",
       "    }\n",
       "\n",
       "    .dataframe thead th {\n",
       "        text-align: right;\n",
       "    }\n",
       "</style>\n",
       "<table border=\"1\" class=\"dataframe\">\n",
       "  <thead>\n",
       "    <tr style=\"text-align: right;\">\n",
       "      <th></th>\n",
       "      <th>temperature</th>\n",
       "      <th>dewpoint</th>\n",
       "      <th>cloud_cover</th>\n",
       "      <th>humidity</th>\n",
       "      <th>wind_speed</th>\n",
       "      <th>wind_direction</th>\n",
       "      <th>precipitation</th>\n",
       "    </tr>\n",
       "    <tr>\n",
       "      <th>date_time</th>\n",
       "      <th></th>\n",
       "      <th></th>\n",
       "      <th></th>\n",
       "      <th></th>\n",
       "      <th></th>\n",
       "      <th></th>\n",
       "      <th></th>\n",
       "    </tr>\n",
       "  </thead>\n",
       "  <tbody>\n",
       "    <tr>\n",
       "      <th>2018-01-01</th>\n",
       "      <td>0.108333</td>\n",
       "      <td>-13.825000</td>\n",
       "      <td>2.291667</td>\n",
       "      <td>52.208333</td>\n",
       "      <td>15.245833</td>\n",
       "      <td>291.125000</td>\n",
       "      <td>0.000000</td>\n",
       "    </tr>\n",
       "    <tr>\n",
       "      <th>2018-01-02</th>\n",
       "      <td>6.779167</td>\n",
       "      <td>-5.450000</td>\n",
       "      <td>10.833333</td>\n",
       "      <td>57.500000</td>\n",
       "      <td>12.462500</td>\n",
       "      <td>259.625000</td>\n",
       "      <td>0.000000</td>\n",
       "    </tr>\n",
       "    <tr>\n",
       "      <th>2018-01-03</th>\n",
       "      <td>14.654167</td>\n",
       "      <td>0.554167</td>\n",
       "      <td>48.666667</td>\n",
       "      <td>55.000000</td>\n",
       "      <td>8.712500</td>\n",
       "      <td>227.625000</td>\n",
       "      <td>0.000000</td>\n",
       "    </tr>\n",
       "    <tr>\n",
       "      <th>2018-01-04</th>\n",
       "      <td>16.783333</td>\n",
       "      <td>9.300000</td>\n",
       "      <td>99.666667</td>\n",
       "      <td>76.625000</td>\n",
       "      <td>21.970833</td>\n",
       "      <td>188.708333</td>\n",
       "      <td>0.021667</td>\n",
       "    </tr>\n",
       "    <tr>\n",
       "      <th>2018-01-05</th>\n",
       "      <td>5.795833</td>\n",
       "      <td>-6.237500</td>\n",
       "      <td>47.708333</td>\n",
       "      <td>57.791667</td>\n",
       "      <td>20.854167</td>\n",
       "      <td>274.625000</td>\n",
       "      <td>0.000417</td>\n",
       "    </tr>\n",
       "  </tbody>\n",
       "</table>\n",
       "</div>"
      ],
      "text/plain": [
       "            temperature   dewpoint  cloud_cover   humidity  wind_speed  \\\n",
       "date_time                                                                \n",
       "2018-01-01     0.108333 -13.825000     2.291667  52.208333   15.245833   \n",
       "2018-01-02     6.779167  -5.450000    10.833333  57.500000   12.462500   \n",
       "2018-01-03    14.654167   0.554167    48.666667  55.000000    8.712500   \n",
       "2018-01-04    16.783333   9.300000    99.666667  76.625000   21.970833   \n",
       "2018-01-05     5.795833  -6.237500    47.708333  57.791667   20.854167   \n",
       "\n",
       "            wind_direction  precipitation  \n",
       "date_time                                  \n",
       "2018-01-01      291.125000       0.000000  \n",
       "2018-01-02      259.625000       0.000000  \n",
       "2018-01-03      227.625000       0.000000  \n",
       "2018-01-04      188.708333       0.021667  \n",
       "2018-01-05      274.625000       0.000417  "
      ]
     },
     "execution_count": 16,
     "metadata": {},
     "output_type": "execute_result"
    }
   ],
   "source": [
    "data_weather_3 = data_weather.resample('D').mean()\n",
    "data_weather_3.head()"
   ]
  },
  {
   "cell_type": "code",
   "execution_count": 6,
   "id": "d6d762a0",
   "metadata": {},
   "outputs": [],
   "source": [
    "data_weather_3.to_csv(\"Demand 1 Daily Weather.csv\")"
   ]
  },
  {
   "cell_type": "markdown",
   "id": "0030dabb",
   "metadata": {},
   "source": [
    "<H3>Meter Data Downsampling</H3>"
   ]
  },
  {
   "cell_type": "code",
   "execution_count": 7,
   "id": "fbfec08c",
   "metadata": {},
   "outputs": [
    {
     "data": {
      "text/plain": [
       "date_time\n",
       "2018-01-01    203384.0\n",
       "2018-01-02    214048.0\n",
       "2018-01-03    207680.0\n",
       "2018-01-04    206323.0\n",
       "2018-01-05    203598.0\n",
       "Freq: D, Name: Volume, dtype: float64"
      ]
     },
     "execution_count": 7,
     "metadata": {},
     "output_type": "execute_result"
    }
   ],
   "source": [
    "data_meter_down = data_2.resample('D').sum()\n",
    "data_meter_down.to_frame()\n",
    "data_meter_down.head()"
   ]
  },
  {
   "cell_type": "code",
   "execution_count": 8,
   "id": "af2ede07",
   "metadata": {},
   "outputs": [],
   "source": [
    "data_meter_down.to_csv('Demand 1 Daily Meter.csv')"
   ]
  },
  {
   "cell_type": "code",
   "execution_count": null,
   "id": "7cc7142d",
   "metadata": {},
   "outputs": [],
   "source": []
  }
 ],
 "metadata": {
  "kernelspec": {
   "display_name": "Python 3 (ipykernel)",
   "language": "python",
   "name": "python3"
  },
  "language_info": {
   "codemirror_mode": {
    "name": "ipython",
    "version": 3
   },
   "file_extension": ".py",
   "mimetype": "text/x-python",
   "name": "python",
   "nbconvert_exporter": "python",
   "pygments_lexer": "ipython3",
   "version": "3.9.7"
  }
 },
 "nbformat": 4,
 "nbformat_minor": 5
}
